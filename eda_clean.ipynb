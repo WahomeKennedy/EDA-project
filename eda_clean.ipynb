{
 "cells": [
  {
   "cell_type": "code",
   "execution_count": 3,
   "metadata": {},
   "outputs": [],
   "source": [
    "import pandas as pd\n",
    "import numpy as np\n",
    "import seaborn as sns\n",
    "import matplotlib.pyplot as plt\n",
    "from pandas import DataFrame, Series"
   ]
  },
  {
   "cell_type": "code",
   "execution_count": null,
   "metadata": {},
   "outputs": [],
   "source": [
    "#cleaning of the data"
   ]
  },
  {
   "cell_type": "code",
   "execution_count": 4,
   "metadata": {},
   "outputs": [],
   "source": [
    "data = pd.read_csv('C:/Users/admin/Desktop/Bootcamp/archive/ITSalarySurveyEU2020.csv')"
   ]
  },
  {
   "cell_type": "code",
   "execution_count": 5,
   "metadata": {},
   "outputs": [
    {
     "data": {
      "text/plain": [
       "Index(['Timestamp', 'Age', 'Gender', 'City', 'Position ',\n",
       "       'Total years of experience', 'Years of experience in Germany',\n",
       "       'Seniority level', 'Your main technology / programming language',\n",
       "       'Other technologies/programming languages you use often',\n",
       "       'Yearly brutto salary (without bonus and stocks) in EUR',\n",
       "       'Yearly bonus + stocks in EUR',\n",
       "       'Annual brutto salary (without bonus and stocks) one year ago. Only answer if staying in the same country',\n",
       "       'Annual bonus+stocks one year ago. Only answer if staying in same country',\n",
       "       'Number of vacation days', 'Employment status', 'Сontract duration',\n",
       "       'Main language at work', 'Company size', 'Company type',\n",
       "       'Have you lost your job due to the coronavirus outbreak?',\n",
       "       'Have you been forced to have a shorter working week (Kurzarbeit)? If yes, how many hours per week',\n",
       "       'Have you received additional monetary support from your employer due to Work From Home? If yes, how much in 2020 in EUR'],\n",
       "      dtype='object')"
      ]
     },
     "execution_count": 5,
     "metadata": {},
     "output_type": "execute_result"
    }
   ],
   "source": [
    "data.columns"
   ]
  },
  {
   "cell_type": "code",
   "execution_count": 6,
   "metadata": {},
   "outputs": [
    {
     "data": {
      "text/html": [
       "<div>\n",
       "<style scoped>\n",
       "    .dataframe tbody tr th:only-of-type {\n",
       "        vertical-align: middle;\n",
       "    }\n",
       "\n",
       "    .dataframe tbody tr th {\n",
       "        vertical-align: top;\n",
       "    }\n",
       "\n",
       "    .dataframe thead th {\n",
       "        text-align: right;\n",
       "    }\n",
       "</style>\n",
       "<table border=\"1\" class=\"dataframe\">\n",
       "  <thead>\n",
       "    <tr style=\"text-align: right;\">\n",
       "      <th></th>\n",
       "      <th>Timestamp</th>\n",
       "      <th>Age</th>\n",
       "      <th>Gender</th>\n",
       "      <th>City</th>\n",
       "      <th>Position</th>\n",
       "      <th>Total years of experience</th>\n",
       "      <th>Years of experience in Germany</th>\n",
       "      <th>Seniority level</th>\n",
       "      <th>Your main technology / programming language</th>\n",
       "      <th>Other technologies/programming languages you use often</th>\n",
       "      <th>...</th>\n",
       "      <th>Annual bonus+stocks one year ago. Only answer if staying in same country</th>\n",
       "      <th>Number of vacation days</th>\n",
       "      <th>Employment status</th>\n",
       "      <th>Сontract duration</th>\n",
       "      <th>Main language at work</th>\n",
       "      <th>Company size</th>\n",
       "      <th>Company type</th>\n",
       "      <th>Have you lost your job due to the coronavirus outbreak?</th>\n",
       "      <th>Have you been forced to have a shorter working week (Kurzarbeit)? If yes, how many hours per week</th>\n",
       "      <th>Have you received additional monetary support from your employer due to Work From Home? If yes, how much in 2020 in EUR</th>\n",
       "    </tr>\n",
       "  </thead>\n",
       "  <tbody>\n",
       "    <tr>\n",
       "      <th>0</th>\n",
       "      <td>24/11/2020 11:14:15</td>\n",
       "      <td>26.0</td>\n",
       "      <td>Male</td>\n",
       "      <td>Munich</td>\n",
       "      <td>Software Engineer</td>\n",
       "      <td>5</td>\n",
       "      <td>3</td>\n",
       "      <td>Senior</td>\n",
       "      <td>TypeScript</td>\n",
       "      <td>Kotlin, Javascript / Typescript</td>\n",
       "      <td>...</td>\n",
       "      <td>10000</td>\n",
       "      <td>30</td>\n",
       "      <td>Full-time employee</td>\n",
       "      <td>Unlimited contract</td>\n",
       "      <td>English</td>\n",
       "      <td>51-100</td>\n",
       "      <td>Product</td>\n",
       "      <td>No</td>\n",
       "      <td>NaN</td>\n",
       "      <td>NaN</td>\n",
       "    </tr>\n",
       "    <tr>\n",
       "      <th>1</th>\n",
       "      <td>24/11/2020 11:14:16</td>\n",
       "      <td>26.0</td>\n",
       "      <td>Male</td>\n",
       "      <td>Berlin</td>\n",
       "      <td>Backend Developer</td>\n",
       "      <td>7</td>\n",
       "      <td>4</td>\n",
       "      <td>Senior</td>\n",
       "      <td>Ruby</td>\n",
       "      <td>NaN</td>\n",
       "      <td>...</td>\n",
       "      <td>5000</td>\n",
       "      <td>28</td>\n",
       "      <td>Full-time employee</td>\n",
       "      <td>Unlimited contract</td>\n",
       "      <td>English</td>\n",
       "      <td>101-1000</td>\n",
       "      <td>Product</td>\n",
       "      <td>No</td>\n",
       "      <td>NaN</td>\n",
       "      <td>NaN</td>\n",
       "    </tr>\n",
       "    <tr>\n",
       "      <th>2</th>\n",
       "      <td>24/11/2020 11:14:21</td>\n",
       "      <td>29.0</td>\n",
       "      <td>Male</td>\n",
       "      <td>Berlin</td>\n",
       "      <td>Software Engineer</td>\n",
       "      <td>12</td>\n",
       "      <td>6</td>\n",
       "      <td>Lead</td>\n",
       "      <td>Javascript / Typescript</td>\n",
       "      <td>Javascript / Typescript, Docker</td>\n",
       "      <td>...</td>\n",
       "      <td>100000</td>\n",
       "      <td>30</td>\n",
       "      <td>Self-employed (freelancer)</td>\n",
       "      <td>Temporary contract</td>\n",
       "      <td>English</td>\n",
       "      <td>101-1000</td>\n",
       "      <td>Product</td>\n",
       "      <td>Yes</td>\n",
       "      <td>NaN</td>\n",
       "      <td>NaN</td>\n",
       "    </tr>\n",
       "    <tr>\n",
       "      <th>3</th>\n",
       "      <td>24/11/2020 11:15:24</td>\n",
       "      <td>28.0</td>\n",
       "      <td>Male</td>\n",
       "      <td>Berlin</td>\n",
       "      <td>Frontend Developer</td>\n",
       "      <td>4</td>\n",
       "      <td>1</td>\n",
       "      <td>Junior</td>\n",
       "      <td>Javascript</td>\n",
       "      <td>NaN</td>\n",
       "      <td>...</td>\n",
       "      <td>NaN</td>\n",
       "      <td>24</td>\n",
       "      <td>Full-time employee</td>\n",
       "      <td>Unlimited contract</td>\n",
       "      <td>English</td>\n",
       "      <td>51-100</td>\n",
       "      <td>Startup</td>\n",
       "      <td>No</td>\n",
       "      <td>NaN</td>\n",
       "      <td>NaN</td>\n",
       "    </tr>\n",
       "    <tr>\n",
       "      <th>4</th>\n",
       "      <td>24/11/2020 11:15:46</td>\n",
       "      <td>37.0</td>\n",
       "      <td>Male</td>\n",
       "      <td>Berlin</td>\n",
       "      <td>Backend Developer</td>\n",
       "      <td>17</td>\n",
       "      <td>6</td>\n",
       "      <td>Senior</td>\n",
       "      <td>C# .NET</td>\n",
       "      <td>.NET, SQL, AWS, Docker</td>\n",
       "      <td>...</td>\n",
       "      <td>NaN</td>\n",
       "      <td>29</td>\n",
       "      <td>Full-time employee</td>\n",
       "      <td>Unlimited contract</td>\n",
       "      <td>English</td>\n",
       "      <td>101-1000</td>\n",
       "      <td>Product</td>\n",
       "      <td>No</td>\n",
       "      <td>NaN</td>\n",
       "      <td>NaN</td>\n",
       "    </tr>\n",
       "  </tbody>\n",
       "</table>\n",
       "<p>5 rows × 23 columns</p>\n",
       "</div>"
      ],
      "text/plain": [
       "             Timestamp   Age Gender    City           Position   \\\n",
       "0  24/11/2020 11:14:15  26.0   Male  Munich   Software Engineer   \n",
       "1  24/11/2020 11:14:16  26.0   Male  Berlin   Backend Developer   \n",
       "2  24/11/2020 11:14:21  29.0   Male  Berlin   Software Engineer   \n",
       "3  24/11/2020 11:15:24  28.0   Male  Berlin  Frontend Developer   \n",
       "4  24/11/2020 11:15:46  37.0   Male  Berlin   Backend Developer   \n",
       "\n",
       "  Total years of experience Years of experience in Germany Seniority level  \\\n",
       "0                         5                              3          Senior   \n",
       "1                         7                              4          Senior   \n",
       "2                        12                              6            Lead   \n",
       "3                         4                              1          Junior   \n",
       "4                        17                              6          Senior   \n",
       "\n",
       "  Your main technology / programming language  \\\n",
       "0                                  TypeScript   \n",
       "1                                        Ruby   \n",
       "2                     Javascript / Typescript   \n",
       "3                                  Javascript   \n",
       "4                                     C# .NET   \n",
       "\n",
       "  Other technologies/programming languages you use often  ...  \\\n",
       "0                    Kotlin, Javascript / Typescript      ...   \n",
       "1                                                NaN      ...   \n",
       "2                    Javascript / Typescript, Docker      ...   \n",
       "3                                                NaN      ...   \n",
       "4                             .NET, SQL, AWS, Docker      ...   \n",
       "\n",
       "   Annual bonus+stocks one year ago. Only answer if staying in same country  \\\n",
       "0                                              10000                          \n",
       "1                                               5000                          \n",
       "2                                             100000                          \n",
       "3                                                NaN                          \n",
       "4                                                NaN                          \n",
       "\n",
       "  Number of vacation days           Employment status   Сontract duration  \\\n",
       "0                      30          Full-time employee  Unlimited contract   \n",
       "1                      28          Full-time employee  Unlimited contract   \n",
       "2                      30  Self-employed (freelancer)  Temporary contract   \n",
       "3                      24          Full-time employee  Unlimited contract   \n",
       "4                      29          Full-time employee  Unlimited contract   \n",
       "\n",
       "  Main language at work Company size Company type  \\\n",
       "0               English       51-100      Product   \n",
       "1               English     101-1000      Product   \n",
       "2               English     101-1000      Product   \n",
       "3               English       51-100      Startup   \n",
       "4               English     101-1000      Product   \n",
       "\n",
       "  Have you lost your job due to the coronavirus outbreak?  \\\n",
       "0                                                 No        \n",
       "1                                                 No        \n",
       "2                                                Yes        \n",
       "3                                                 No        \n",
       "4                                                 No        \n",
       "\n",
       "  Have you been forced to have a shorter working week (Kurzarbeit)? If yes, how many hours per week  \\\n",
       "0                                                NaN                                                  \n",
       "1                                                NaN                                                  \n",
       "2                                                NaN                                                  \n",
       "3                                                NaN                                                  \n",
       "4                                                NaN                                                  \n",
       "\n",
       "  Have you received additional monetary support from your employer due to Work From Home? If yes, how much in 2020 in EUR  \n",
       "0                                                NaN                                                                       \n",
       "1                                                NaN                                                                       \n",
       "2                                                NaN                                                                       \n",
       "3                                                NaN                                                                       \n",
       "4                                                NaN                                                                       \n",
       "\n",
       "[5 rows x 23 columns]"
      ]
     },
     "execution_count": 6,
     "metadata": {},
     "output_type": "execute_result"
    }
   ],
   "source": [
    "data.head()"
   ]
  },
  {
   "cell_type": "code",
   "execution_count": 7,
   "metadata": {},
   "outputs": [],
   "source": [
    "data.columns = [\"Year\", \"Age\", \"Gender\",\"City\",\"Position\",\"Years of experience\",\"Germany Experience\",\"Seniority level\",\"Tech program language\",\n",
    "                       \"Other Language\",\"Yearly salary\",\"Yearly bonus and stocks\", \"Salary one year ago\",\"Bonus and stocks last year\",\"Vacation days\",\n",
    "                       \"Employment_status\",\"Сontract_duration\",\"Language\",\"Company size\",\"Company type\",\"Job loss COVID\",\"Kurzarbeit\",\"Monetary Support\"]\n",
    "data.columns = data.columns.str.replace(' ', '_')"
   ]
  },
  {
   "cell_type": "code",
   "execution_count": 8,
   "metadata": {},
   "outputs": [],
   "source": [
    "del data['Germany_Experience']\n",
    "del data['Other_Language']\n",
    "del data['Employment_status']\n",
    "del data['Сontract_duration']"
   ]
  },
  {
   "cell_type": "code",
   "execution_count": 9,
   "metadata": {},
   "outputs": [
    {
     "data": {
      "text/plain": [
       "(1253, 19)"
      ]
     },
     "execution_count": 9,
     "metadata": {},
     "output_type": "execute_result"
    }
   ],
   "source": [
    "data.shape"
   ]
  },
  {
   "cell_type": "code",
   "execution_count": 10,
   "metadata": {},
   "outputs": [
    {
     "data": {
      "text/plain": [
       "Year                            0\n",
       "Age                            27\n",
       "Gender                         10\n",
       "City                            0\n",
       "Position                        6\n",
       "Years_of_experience            16\n",
       "Seniority_level                12\n",
       "Tech_program_language         127\n",
       "Yearly_salary                   0\n",
       "Yearly_bonus_and_stocks       424\n",
       "Salary_one_year_ago           368\n",
       "Bonus_and_stocks_last_year    639\n",
       "Vacation_days                  68\n",
       "Language                       16\n",
       "Company_size                   18\n",
       "Company_type                   25\n",
       "Job_loss_COVID                 20\n",
       "Kurzarbeit                    880\n",
       "Monetary_Support              791\n",
       "dtype: int64"
      ]
     },
     "execution_count": 10,
     "metadata": {},
     "output_type": "execute_result"
    }
   ],
   "source": [
    "data.isna().sum()"
   ]
  },
  {
   "cell_type": "code",
   "execution_count": 11,
   "metadata": {},
   "outputs": [],
   "source": [
    "data=data.dropna(subset=['Age','Gender','Position','Years_of_experience','Seniority_level','Salary_one_year_ago','Language']) \n",
    "data=data.drop_duplicates()"
   ]
  },
  {
   "cell_type": "code",
   "execution_count": 12,
   "metadata": {},
   "outputs": [
    {
     "data": {
      "text/plain": [
       "Year                            0\n",
       "Age                             0\n",
       "Gender                          0\n",
       "City                            0\n",
       "Position                        0\n",
       "Years_of_experience             0\n",
       "Seniority_level                 0\n",
       "Tech_program_language          70\n",
       "Yearly_salary                   0\n",
       "Yearly_bonus_and_stocks       235\n",
       "Salary_one_year_ago             0\n",
       "Bonus_and_stocks_last_year    276\n",
       "Vacation_days                  12\n",
       "Language                        0\n",
       "Company_size                    0\n",
       "Company_type                    2\n",
       "Job_loss_COVID                  2\n",
       "Kurzarbeit                    575\n",
       "Monetary_Support              511\n",
       "dtype: int64"
      ]
     },
     "execution_count": 12,
     "metadata": {},
     "output_type": "execute_result"
    }
   ],
   "source": [
    "data.isna().sum()"
   ]
  },
  {
   "cell_type": "code",
   "execution_count": 13,
   "metadata": {},
   "outputs": [],
   "source": [
    "data['Year'] = pd.to_datetime(data['Year']).dt.year"
   ]
  },
  {
   "cell_type": "code",
   "execution_count": 14,
   "metadata": {},
   "outputs": [],
   "source": [
    "data_filtered = data[data['Year']==2020]"
   ]
  },
  {
   "cell_type": "code",
   "execution_count": 15,
   "metadata": {},
   "outputs": [],
   "source": [
    "data_filtered = data_filtered.replace({'City': {'ü': 'u', 'ö': 'o','ń':'n'}}, regex=True)\n",
    "data_filtered['City'] = data_filtered['City'].str.title().str.strip()\n",
    "\n",
    "data_filtered=data_filtered.replace({'City': {'Nurnberg': 'Nuremberg','Kiev': 'Kyiv','Koln':'Cologne','Den Haag':'The Haag',\n",
    "                                                            'Cracovia':'Krakow','Bolingen':'Bollingen','Braunschweig':'Brunswick',\n",
    "                                                            'Sevilla':'Seville','Saint-Petersburg':'Saint Petersburg','Dusseldurf':'Dusseldorf'\n",
    "                }})"
   ]
  },
  {
   "cell_type": "code",
   "execution_count": 16,
   "metadata": {},
   "outputs": [],
   "source": [
    "data_filtered['Position'] = data_filtered['Position'].str.title().str.strip()\n",
    "\n",
    "counts_2020=data_filtered.Position.value_counts()\n",
    "cutoff1=3\n",
    "cutoff1_keep= list(counts_2020[counts_2020.values>=cutoff1].index)\n",
    "data_filtered['Position'] = data_filtered['Position'].where(data_filtered['Position'].isin(cutoff1_keep), 'Other')"
   ]
  },
  {
   "cell_type": "code",
   "execution_count": 17,
   "metadata": {},
   "outputs": [
    {
     "data": {
      "text/plain": [
       "Year                            int64\n",
       "Age                           float64\n",
       "Gender                         object\n",
       "City                           object\n",
       "Position                       object\n",
       "Years_of_experience            object\n",
       "Seniority_level                object\n",
       "Tech_program_language          object\n",
       "Yearly_salary                 float64\n",
       "Yearly_bonus_and_stocks        object\n",
       "Salary_one_year_ago           float64\n",
       "Bonus_and_stocks_last_year     object\n",
       "Vacation_days                  object\n",
       "Language                       object\n",
       "Company_size                   object\n",
       "Company_type                   object\n",
       "Job_loss_COVID                 object\n",
       "Kurzarbeit                    float64\n",
       "Monetary_Support               object\n",
       "dtype: object"
      ]
     },
     "execution_count": 17,
     "metadata": {},
     "output_type": "execute_result"
    }
   ],
   "source": [
    "data_filtered.dtypes\n"
   ]
  },
  {
   "cell_type": "code",
   "execution_count": 18,
   "metadata": {},
   "outputs": [],
   "source": [
    "data_filtered['Years_of_experience']=data_filtered['Years_of_experience'].astype(str)\n",
    "\n",
    "data_filtered['Years_of_experience']=data_filtered['Years_of_experience'].str.replace(r',', '.',regex=True)\n",
    "data_filtered['Years_of_experience']=data_filtered['Years_of_experience'].str.replace(r'6 \\(not as a data scientist. but as a lab scientist\\)',\n",
    "                                                                                                    '6',regex=True)\n",
    "data_filtered['Years_of_experience']=data_filtered['Years_of_experience'].str.replace(r'15\\. thereof 8 as CTO','15',regex=True)\n",
    "data_filtered['Years_of_experience']=data_filtered['Years_of_experience'].str.replace(r'1 \\(as QA Engineer\\) / 11 in total','11',regex=True)\n",
    "data_filtered['Years_of_experience']=data_filtered['Years_of_experience'].str.replace(r'less than year','1',regex=True) \n",
    "data_filtered['Years_of_experience'] = pd.to_numeric(data_filtered['Years_of_experience'])        \n"
   ]
  },
  {
   "cell_type": "code",
   "execution_count": 19,
   "metadata": {},
   "outputs": [],
   "source": [
    "data_filtered['Seniority_level'] = data_filtered['Seniority_level'].str.title().str.strip()\n",
    "data_filtered=data_filtered.replace({'Seniority_level': {'Lead': 'Senior','Head': 'Senior','Principal':'Senior','Student':'Junior',\n",
    "                                                                       'Intern':'Junior','Working Student':'Junior','C-Level':'Senior',\n",
    "                                                                       'No Idea, There Are No Ranges In The Firm':'Na','Director':'Senior',\n",
    "                                                                       'C-Level Executive Manager':'Senior','Key': 'Na','No Level':'Na','Cto':'Senior',\n",
    "                                                                       'Work Center Manager':'Senior','Manager':'Senior','Vp':'Senior',\n",
    "                                                                       'Entry Level':'Junior'}})"
   ]
  },
  {
   "cell_type": "code",
   "execution_count": 20,
   "metadata": {},
   "outputs": [],
   "source": [
    "data_filtered['Tech_program_language'] = data_filtered['Tech_program_language'].str.title().str.strip()"
   ]
  },
  {
   "cell_type": "code",
   "execution_count": 21,
   "metadata": {},
   "outputs": [],
   "source": [
    "data_filtered = data_filtered.drop(data_filtered[data_filtered.Yearly_salary > 500000].index)"
   ]
  },
  {
   "cell_type": "code",
   "execution_count": 22,
   "metadata": {},
   "outputs": [],
   "source": [
    "data_filtered = data_filtered.drop(data_filtered[data_filtered.Salary_one_year_ago > 500000].index)"
   ]
  },
  {
   "cell_type": "code",
   "execution_count": 23,
   "metadata": {},
   "outputs": [],
   "source": [
    "\n",
    "data_filtered['Vacation_days'] = data_filtered['Vacation_days'].str.title().str.strip()\n",
    "data_filtered=data_filtered.replace({'Vacation_days': {'23+': '23','24 Labour Days': '24','~25':'25',\n",
    "                                                                     '30 In Contract (But Theoretically Unlimited)':'365',\n",
    "                                                                     'Unlimited':'365','(No Idea)':'Na'}})"
   ]
  },
  {
   "cell_type": "code",
   "execution_count": 24,
   "metadata": {},
   "outputs": [],
   "source": [
    "data_filtered['Language'] = data_filtered['Language'].str.replace('Deutsch', 'German')\n",
    "data_filtered=data_filtered.replace({'Language': {'English and German': 'Multiple', 'Русский': 'Russian','50/50':'Multiple',\n",
    "                                                                'Deuglisch':'German','both':'Multiple','Russian, English':'Multiple'}})"
   ]
  },
  {
   "cell_type": "code",
   "execution_count": 25,
   "metadata": {},
   "outputs": [],
   "source": [
    "data_filtered=data_filtered.replace({'Job_loss_COVID': {'i didn\\'t but will be looking for new one because of covid': 'No',\n",
    "                                                                      'kurzarbeitzeit for 1.5 months': 'No',\n",
    "                                                                      'Lost the job but for different reason':'No',\n",
    "                                                                      'yes but found a new one with better pay / perks':'Yes',\n",
    "                                                                      'No, but there was a salary cut at 10% for 3 months and then at 5% for further 3 months':'No',\n",
    "                                                                      'Leads and project inquiries have slowed down':'No',\n",
    "                                                                      'Have been a freelancer at the beginning of year':'Yes',\n",
    "                                                                       'Laid off for a bit':'Laid Off'}})"
   ]
  },
  {
   "cell_type": "code",
   "execution_count": 26,
   "metadata": {},
   "outputs": [],
   "source": [
    "data_filtered['Monetary_Support'] = data_filtered['Monetary_Support'].str.title().str.strip()\n",
    "\n",
    "Monetary_2020=data_filtered.Monetary_Support.value_counts()\n",
    "cutoff2=3\n",
    "cutoff2_keep= list(Monetary_2020[Monetary_2020.values>=cutoff2].index)\n",
    "data_filtered['Monetary_Support'] = data_filtered['Monetary_Support'].where(data_filtered['Monetary_Support'].isin(cutoff2_keep), 'Other')"
   ]
  },
  {
   "cell_type": "code",
   "execution_count": 27,
   "metadata": {},
   "outputs": [
    {
     "data": {
      "text/plain": [
       "(830, 19)"
      ]
     },
     "execution_count": 27,
     "metadata": {},
     "output_type": "execute_result"
    }
   ],
   "source": [
    "data_filtered.shape"
   ]
  },
  {
   "cell_type": "code",
   "execution_count": 28,
   "metadata": {},
   "outputs": [
    {
     "data": {
      "text/html": [
       "<div>\n",
       "<style scoped>\n",
       "    .dataframe tbody tr th:only-of-type {\n",
       "        vertical-align: middle;\n",
       "    }\n",
       "\n",
       "    .dataframe tbody tr th {\n",
       "        vertical-align: top;\n",
       "    }\n",
       "\n",
       "    .dataframe thead th {\n",
       "        text-align: right;\n",
       "    }\n",
       "</style>\n",
       "<table border=\"1\" class=\"dataframe\">\n",
       "  <thead>\n",
       "    <tr style=\"text-align: right;\">\n",
       "      <th></th>\n",
       "      <th>Year</th>\n",
       "      <th>Age</th>\n",
       "      <th>Years_of_experience</th>\n",
       "      <th>Yearly_salary</th>\n",
       "      <th>Salary_one_year_ago</th>\n",
       "      <th>Kurzarbeit</th>\n",
       "    </tr>\n",
       "  </thead>\n",
       "  <tbody>\n",
       "    <tr>\n",
       "      <th>count</th>\n",
       "      <td>830.0</td>\n",
       "      <td>830.0</td>\n",
       "      <td>830.0</td>\n",
       "      <td>830.0</td>\n",
       "      <td>830.0</td>\n",
       "      <td>274.0</td>\n",
       "    </tr>\n",
       "    <tr>\n",
       "      <th>mean</th>\n",
       "      <td>2020.0</td>\n",
       "      <td>33.0</td>\n",
       "      <td>9.0</td>\n",
       "      <td>72557.0</td>\n",
       "      <td>66156.0</td>\n",
       "      <td>13.0</td>\n",
       "    </tr>\n",
       "    <tr>\n",
       "      <th>std</th>\n",
       "      <td>0.0</td>\n",
       "      <td>5.0</td>\n",
       "      <td>5.0</td>\n",
       "      <td>22423.0</td>\n",
       "      <td>20850.0</td>\n",
       "      <td>16.0</td>\n",
       "    </tr>\n",
       "    <tr>\n",
       "      <th>min</th>\n",
       "      <td>2020.0</td>\n",
       "      <td>22.0</td>\n",
       "      <td>0.0</td>\n",
       "      <td>12000.0</td>\n",
       "      <td>11000.0</td>\n",
       "      <td>0.0</td>\n",
       "    </tr>\n",
       "    <tr>\n",
       "      <th>25%</th>\n",
       "      <td>2020.0</td>\n",
       "      <td>29.0</td>\n",
       "      <td>5.0</td>\n",
       "      <td>60000.0</td>\n",
       "      <td>55000.0</td>\n",
       "      <td>0.0</td>\n",
       "    </tr>\n",
       "    <tr>\n",
       "      <th>50%</th>\n",
       "      <td>2020.0</td>\n",
       "      <td>32.0</td>\n",
       "      <td>9.0</td>\n",
       "      <td>70000.0</td>\n",
       "      <td>65000.0</td>\n",
       "      <td>0.0</td>\n",
       "    </tr>\n",
       "    <tr>\n",
       "      <th>75%</th>\n",
       "      <td>2020.0</td>\n",
       "      <td>36.0</td>\n",
       "      <td>12.0</td>\n",
       "      <td>80000.0</td>\n",
       "      <td>75000.0</td>\n",
       "      <td>30.0</td>\n",
       "    </tr>\n",
       "    <tr>\n",
       "      <th>max</th>\n",
       "      <td>2020.0</td>\n",
       "      <td>66.0</td>\n",
       "      <td>40.0</td>\n",
       "      <td>250000.0</td>\n",
       "      <td>230000.0</td>\n",
       "      <td>40.0</td>\n",
       "    </tr>\n",
       "  </tbody>\n",
       "</table>\n",
       "</div>"
      ],
      "text/plain": [
       "         Year    Age  Years_of_experience  Yearly_salary  Salary_one_year_ago  \\\n",
       "count   830.0  830.0                830.0          830.0                830.0   \n",
       "mean   2020.0   33.0                  9.0        72557.0              66156.0   \n",
       "std       0.0    5.0                  5.0        22423.0              20850.0   \n",
       "min    2020.0   22.0                  0.0        12000.0              11000.0   \n",
       "25%    2020.0   29.0                  5.0        60000.0              55000.0   \n",
       "50%    2020.0   32.0                  9.0        70000.0              65000.0   \n",
       "75%    2020.0   36.0                 12.0        80000.0              75000.0   \n",
       "max    2020.0   66.0                 40.0       250000.0             230000.0   \n",
       "\n",
       "       Kurzarbeit  \n",
       "count       274.0  \n",
       "mean         13.0  \n",
       "std          16.0  \n",
       "min           0.0  \n",
       "25%           0.0  \n",
       "50%           0.0  \n",
       "75%          30.0  \n",
       "max          40.0  "
      ]
     },
     "execution_count": 28,
     "metadata": {},
     "output_type": "execute_result"
    }
   ],
   "source": [
    "data_filtered.describe().round()"
   ]
  },
  {
   "cell_type": "code",
   "execution_count": null,
   "metadata": {},
   "outputs": [],
   "source": [
    "## Analysis"
   ]
  },
  {
   "cell_type": "code",
   "execution_count": 29,
   "metadata": {},
   "outputs": [
    {
     "data": {
      "image/png": "[encoded data removed]",
      "text/plain": [
       "<Figure size 640x480 with 1 Axes>"
      ]
     },
     "metadata": {},
     "output_type": "display_data"
    },
    {
     "name": "stdout",
     "output_type": "stream",
     "text": [
      "Age Descriptive Statistics\n"
     ]
    },
    {
     "data": {
      "text/plain": [
       "count    830.0\n",
       "mean      33.0\n",
       "std        5.0\n",
       "min       22.0\n",
       "25%       29.0\n",
       "50%       32.0\n",
       "75%       36.0\n",
       "max       66.0\n",
       "Name: Age, dtype: float64"
      ]
     },
     "execution_count": 29,
     "metadata": {},
     "output_type": "execute_result"
    }
   ],
   "source": [
    "sns.set(font_scale=1.3)\n",
    "plot=sns.histplot(data_filtered.Age,bins=9,kde=True)\n",
    "plt.title('Age Distribution')\n",
    "plt.show()\n",
    "print('Age Descriptive Statistics')\n",
    "data_filtered['Age'].describe().round()"
   ]
  },
  {
   "cell_type": "code",
   "execution_count": null,
   "metadata": {},
   "outputs": [],
   "source": []
  },
  {
   "cell_type": "code",
   "execution_count": null,
   "metadata": {},
   "outputs": [],
   "source": []
  }
 ],
 "metadata": {
  "kernelspec": {
   "display_name": "Python 3",
   "language": "python",
   "name": "python3"
  },
  "language_info": {
   "codemirror_mode": {
    "name": "ipython",
    "version": 3
   },
   "file_extension": ".py",
   "mimetype": "text/x-python",
   "name": "python",
   "nbconvert_exporter": "python",
   "pygments_lexer": "ipython3",
   "version": "3.10.4"
  },
  "orig_nbformat": 4,
  "vscode": {
   "interpreter": {
    "hash": "beedbe2faf2f7048d727558d0bc3221e7eba2a0b921cac4d4771b2feb8f74b30"
   }
  }
 },
 "nbformat": 4,
 "nbformat_minor": 2
}
